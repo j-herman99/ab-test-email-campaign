{
 "cells": [
  {
   "cell_type": "markdown",
   "id": "3e4aa6ed",
   "metadata": {},
   "source": [
    "# A/B Testing Email CTA Optimization Portfolio Project\n",
    "\n",
    "Analyzing conversion performance between two email variants to determine which call-to-action (CTA) leads to better results."
   ]
  },
  {
   "cell_type": "code",
   "execution_count": 7,
   "id": "1e07357a",
   "metadata": {},
   "outputs": [],
   "source": [
    "import pandas as pd\n",
    "import numpy as np\n",
    "import matplotlib.pyplot as plt\n",
    "from scipy.stats import norm"
   ]
  },
  {
   "cell_type": "code",
   "execution_count": 8,
   "id": "ab2fe062",
   "metadata": {},
   "outputs": [
    {
     "data": {
      "application/vnd.microsoft.datawrangler.viewer.v0+json": {
       "columns": [
        {
         "name": "index",
         "rawType": "int64",
         "type": "integer"
        },
        {
         "name": "variant",
         "rawType": "object",
         "type": "string"
        },
        {
         "name": "user_id",
         "rawType": "int64",
         "type": "integer"
        },
        {
         "name": "converted",
         "rawType": "int64",
         "type": "integer"
        }
       ],
       "ref": "782a0e80-1895-4503-8649-efaea8d0e54a",
       "rows": [
        [
         "0",
         "A",
         "1",
         "0"
        ],
        [
         "1",
         "A",
         "2",
         "1"
        ],
        [
         "2",
         "A",
         "3",
         "0"
        ],
        [
         "3",
         "A",
         "4",
         "0"
        ],
        [
         "4",
         "A",
         "5",
         "0"
        ]
       ],
       "shape": {
        "columns": 3,
        "rows": 5
       }
      },
      "text/html": [
       "<div>\n",
       "<style scoped>\n",
       "    .dataframe tbody tr th:only-of-type {\n",
       "        vertical-align: middle;\n",
       "    }\n",
       "\n",
       "    .dataframe tbody tr th {\n",
       "        vertical-align: top;\n",
       "    }\n",
       "\n",
       "    .dataframe thead th {\n",
       "        text-align: right;\n",
       "    }\n",
       "</style>\n",
       "<table border=\"1\" class=\"dataframe\">\n",
       "  <thead>\n",
       "    <tr style=\"text-align: right;\">\n",
       "      <th></th>\n",
       "      <th>variant</th>\n",
       "      <th>user_id</th>\n",
       "      <th>converted</th>\n",
       "    </tr>\n",
       "  </thead>\n",
       "  <tbody>\n",
       "    <tr>\n",
       "      <th>0</th>\n",
       "      <td>A</td>\n",
       "      <td>1</td>\n",
       "      <td>0</td>\n",
       "    </tr>\n",
       "    <tr>\n",
       "      <th>1</th>\n",
       "      <td>A</td>\n",
       "      <td>2</td>\n",
       "      <td>1</td>\n",
       "    </tr>\n",
       "    <tr>\n",
       "      <th>2</th>\n",
       "      <td>A</td>\n",
       "      <td>3</td>\n",
       "      <td>0</td>\n",
       "    </tr>\n",
       "    <tr>\n",
       "      <th>3</th>\n",
       "      <td>A</td>\n",
       "      <td>4</td>\n",
       "      <td>0</td>\n",
       "    </tr>\n",
       "    <tr>\n",
       "      <th>4</th>\n",
       "      <td>A</td>\n",
       "      <td>5</td>\n",
       "      <td>0</td>\n",
       "    </tr>\n",
       "  </tbody>\n",
       "</table>\n",
       "</div>"
      ],
      "text/plain": [
       "  variant  user_id  converted\n",
       "0       A        1          0\n",
       "1       A        2          1\n",
       "2       A        3          0\n",
       "3       A        4          0\n",
       "4       A        5          0"
      ]
     },
     "execution_count": 8,
     "metadata": {},
     "output_type": "execute_result"
    }
   ],
   "source": [
    "# Set seed for reproducibility\n",
    "np.random.seed(42)\n",
    "\n",
    "# Simulate user data\n",
    "n_a = 1000\n",
    "n_b = 980\n",
    "conversions_a = np.random.binomial(1, 0.085, n_a)\n",
    "conversions_b = np.random.binomial(1, 0.122, n_b)\n",
    "\n",
    "df_a = pd.DataFrame({\n",
    "    \"variant\": \"A\",\n",
    "    \"user_id\": range(1, n_a + 1),\n",
    "    \"converted\": conversions_a\n",
    "})\n",
    "\n",
    "df_b = pd.DataFrame({\n",
    "    \"variant\": \"B\",\n",
    "    \"user_id\": range(n_a + 1, n_a + n_b + 1),\n",
    "    \"converted\": conversions_b\n",
    "})\n",
    "\n",
    "ab_test_data = pd.concat([df_a, df_b], ignore_index=True)\n",
    "ab_test_data.head()"
   ]
  },
  {
   "cell_type": "code",
   "execution_count": 9,
   "id": "dee78ce4",
   "metadata": {},
   "outputs": [
    {
     "data": {
      "application/vnd.microsoft.datawrangler.viewer.v0+json": {
       "columns": [
        {
         "name": "variant",
         "rawType": "object",
         "type": "string"
        },
        {
         "name": "count",
         "rawType": "int64",
         "type": "integer"
        },
        {
         "name": "sum",
         "rawType": "int64",
         "type": "integer"
        },
        {
         "name": "conversion_rate",
         "rawType": "float64",
         "type": "float"
        }
       ],
       "ref": "0b818507-3548-4946-84b7-da3462446dc1",
       "rows": [
        [
         "A",
         "1000",
         "81",
         "0.081"
        ],
        [
         "B",
         "980",
         "114",
         "0.11632653061224489"
        ]
       ],
       "shape": {
        "columns": 3,
        "rows": 2
       }
      },
      "text/html": [
       "<div>\n",
       "<style scoped>\n",
       "    .dataframe tbody tr th:only-of-type {\n",
       "        vertical-align: middle;\n",
       "    }\n",
       "\n",
       "    .dataframe tbody tr th {\n",
       "        vertical-align: top;\n",
       "    }\n",
       "\n",
       "    .dataframe thead th {\n",
       "        text-align: right;\n",
       "    }\n",
       "</style>\n",
       "<table border=\"1\" class=\"dataframe\">\n",
       "  <thead>\n",
       "    <tr style=\"text-align: right;\">\n",
       "      <th></th>\n",
       "      <th>count</th>\n",
       "      <th>sum</th>\n",
       "      <th>conversion_rate</th>\n",
       "    </tr>\n",
       "    <tr>\n",
       "      <th>variant</th>\n",
       "      <th></th>\n",
       "      <th></th>\n",
       "      <th></th>\n",
       "    </tr>\n",
       "  </thead>\n",
       "  <tbody>\n",
       "    <tr>\n",
       "      <th>A</th>\n",
       "      <td>1000</td>\n",
       "      <td>81</td>\n",
       "      <td>0.081000</td>\n",
       "    </tr>\n",
       "    <tr>\n",
       "      <th>B</th>\n",
       "      <td>980</td>\n",
       "      <td>114</td>\n",
       "      <td>0.116327</td>\n",
       "    </tr>\n",
       "  </tbody>\n",
       "</table>\n",
       "</div>"
      ],
      "text/plain": [
       "         count  sum  conversion_rate\n",
       "variant                             \n",
       "A         1000   81         0.081000\n",
       "B          980  114         0.116327"
      ]
     },
     "execution_count": 9,
     "metadata": {},
     "output_type": "execute_result"
    }
   ],
   "source": [
    "# Group by variant and calculate conversion stats\n",
    "summary = ab_test_data.groupby(\"variant\")[\"converted\"].agg([\"count\", \"sum\"])\n",
    "summary[\"conversion_rate\"] = summary[\"sum\"] / summary[\"count\"]\n",
    "summary"
   ]
  },
  {
   "cell_type": "code",
   "execution_count": 10,
   "id": "be02b43d",
   "metadata": {},
   "outputs": [
    {
     "data": {
      "text/plain": [
       "{'Conversion Rate A': np.float64(8.1),\n",
       " 'Conversion Rate B': np.float64(11.63),\n",
       " 'Lift (%)': np.float64(43.61),\n",
       " 'Z-Score': np.float64(2.638),\n",
       " 'P-Value': np.float64(0.0042),\n",
       " 'Statistically Significant (p < 0.05)': np.True_}"
      ]
     },
     "execution_count": 10,
     "metadata": {},
     "output_type": "execute_result"
    }
   ],
   "source": [
    "# Extract values\n",
    "n_a = summary.loc[\"A\", \"count\"]\n",
    "n_b = summary.loc[\"B\", \"count\"]\n",
    "x_a = summary.loc[\"A\", \"sum\"]\n",
    "x_b = summary.loc[\"B\", \"sum\"]\n",
    "\n",
    "p_a = x_a / n_a\n",
    "p_b = x_b / n_b\n",
    "p_pool = (x_a + x_b) / (n_a + n_b)\n",
    "\n",
    "z_score = (p_b - p_a) / np.sqrt(p_pool * (1 - p_pool) * (1/n_a + 1/n_b))\n",
    "p_value = 1 - norm.cdf(z_score)\n",
    "\n",
    "{\n",
    "    \"Conversion Rate A\": round(p_a * 100, 2),\n",
    "    \"Conversion Rate B\": round(p_b * 100, 2),\n",
    "    \"Lift (%)\": round((p_b - p_a) / p_a * 100, 2),\n",
    "    \"Z-Score\": round(z_score, 3),\n",
    "    \"P-Value\": round(p_value, 4),\n",
    "    \"Statistically Significant (p < 0.05)\": p_value < 0.05\n",
    "}"
   ]
  },
  {
   "cell_type": "code",
   "execution_count": 11,
   "id": "9a38cd83",
   "metadata": {},
   "outputs": [
    {
     "data": {
      "image/png": "[encoded data removed]",
      "text/plain": [
       "<Figure size 600x400 with 1 Axes>"
      ]
     },
     "metadata": {},
     "output_type": "display_data"
    }
   ],
   "source": [
    "# Visualization\n",
    "plt.figure(figsize=(6,4))\n",
    "plt.bar(['Variant A', 'Variant B'], [p_a, p_b], color=['gray', 'steelblue'])\n",
    "plt.title(\"Conversion Rates: A vs B\")\n",
    "plt.ylabel(\"Conversion Rate\")\n",
    "plt.ylim(0, max(p_a, p_b) + 0.05)\n",
    "plt.grid(axis='y', linestyle='--', alpha=0.7)\n",
    "plt.tight_layout()\n",
    "plt.show()"
   ]
  }
 ],
 "metadata": {
  "kernelspec": {
   "display_name": "venv",
   "language": "python",
   "name": "python3"
  },
  "language_info": {
   "codemirror_mode": {
    "name": "ipython",
    "version": 3
   },
   "file_extension": ".py",
   "mimetype": "text/x-python",
   "name": "python",
   "nbconvert_exporter": "python",
   "pygments_lexer": "ipython3",
   "version": "3.11.12"
  }
 },
 "nbformat": 4,
 "nbformat_minor": 5
}
